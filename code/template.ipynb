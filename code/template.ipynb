{
 "cells": [
  {
   "cell_type": "markdown",
   "metadata": {},
   "source": [
    "## Template Notebooks\n",
    "### <img src=\"https://github.com/sergio-UFS/sergio-UFS/assets/122404101/6fb58fd4-8f8f-4306-9aaa-ed6f31a87202\" alt=\"drawing\" width=\"30\"/> LADATA \n",
    "\n",
    "> **Projeto**:  {Insira o nome}.\n",
    " \n",
    "\n",
    "#### **Objetivos**: Criar um modelo para uso de Jupyter Notebooks nos projetos da LADATA {substituir}.\n"
   ]
  },
  {
   "cell_type": "markdown",
   "metadata": {},
   "source": [
    "#### 🔽 **Bibliotecas Utilizadas:**\n",
    "\n",
    "Para esse projeto, as principais bibliotecas necessárias foram: [Pandas](https://pandas.pydata.org), [NumPy](https://numpy.org) e [MatplotLib](https://matplotlib.org)\n",
    "\n",
    "{sempre adicionar referências das bibliotecas externas para consulta de documentação}"
   ]
  },
  {
   "cell_type": "code",
   "execution_count": null,
   "metadata": {},
   "outputs": [],
   "source": [
    "import pandas as pd\n",
    "import numpy as np\n",
    "import matplotlib.pyplot as plt"
   ]
  },
  {
   "cell_type": "markdown",
   "metadata": {},
   "source": [
    "### 🛠 Tratamento\n",
    "\n",
    "Responsável pela parte da importação, limpeza e geração de objetos de análise."
   ]
  },
  {
   "cell_type": "code",
   "execution_count": null,
   "metadata": {},
   "outputs": [],
   "source": [
    "bd = pd.read_csv('data/dados.dados.json', sep=';')\n",
    "bd = bd.dropna()\n",
    "bd = bd.drop_duplicates()\n",
    "### etc etc"
   ]
  },
  {
   "cell_type": "markdown",
   "metadata": {},
   "source": [
    "### 🤔 Análise e Metodologia\n",
    "\n",
    "Análise dos dados limpos para a análise com o objetivo de {}\n",
    "\n",
    "A **Metodologia** é baseada em: gerar gráficos para visualizar o comportamento de .... , ou , criar um modelo que possibilite prever ....."
   ]
  },
  {
   "cell_type": "code",
   "execution_count": null,
   "metadata": {},
   "outputs": [],
   "source": [
    "def plotar_grafico(bd):\n",
    "    plt = bd.plot(kind='scatter', x='x', y='y')\n",
    "    plt.set_xlabel('x')\n",
    "    plt.set_ylabel('y')\n",
    "    return plt"
   ]
  },
  {
   "cell_type": "markdown",
   "metadata": {},
   "source": [
    "### 📈 Resultados\n",
    "\n",
    "Os resultados obtidos, em formato de gráficos, tabelas, ou o que seja esperado, mostrando o que foi desenvolvido no trecho de Análise \n",
    "\n",
    "{Para a organização do produto final, é recomendado criar funções e apenas chamá-las na parte de resultados, para facilitar a visualização}"
   ]
  },
  {
   "cell_type": "code",
   "execution_count": null,
   "metadata": {},
   "outputs": [],
   "source": [
    "# Plot do gráfico importante\n",
    "plotar_grafico(bd)"
   ]
  },
  {
   "cell_type": "markdown",
   "metadata": {},
   "source": [
    "### 💡 Conclusões\n",
    "\n",
    "A partir da pesquisa e do desenvolvimento do código acima, o objetivo de ... (foi alcançado / não foi alcançado / alcançado em partes) {Desenvolver parágrafo}"
   ]
  },
  {
   "cell_type": "markdown",
   "metadata": {},
   "source": [
    "### 📖 Referências:\n",
    "\n",
    "\n",
    "\n",
    "### Equipe:\n",
    "\n",
    "1. [Sérgio Manhães](https://github.com/sergio-UFS)\n",
    "2. [Sérgio Manhães](https://github.com/sergio-UFS)\n",
    "3. [Sérgio Manhães](https://github.com/sergio-UFS)\n",
    "4. [Sérgio Manhães](https://github.com/sergio-UFS)"
   ]
  }
 ],
 "metadata": {
  "language_info": {
   "name": "python"
  }
 },
 "nbformat": 4,
 "nbformat_minor": 2
}
